{
 "cells": [
  {
   "cell_type": "markdown",
   "id": "0e080a03",
   "metadata": {},
   "source": [
    "# Simulation for discussion of Hengge et al"
   ]
  },
  {
   "cell_type": "code",
   "execution_count": 1,
   "id": "21b5e87c",
   "metadata": {},
   "outputs": [],
   "source": [
    "import pandas as pd\n",
    "import numpy as np\n",
    "import statsmodels.api as sm\n",
    "\n",
    "n = 1000000"
   ]
  },
  {
   "attachments": {
    "image.png": {
     "image/png": "[encoded data removed]"
    }
   },
   "cell_type": "markdown",
   "id": "a5e11959",
   "metadata": {},
   "source": [
    "Start by simulating the paper DAG with linear processes\n",
    "\n",
    "![image.png](attachment:image.png)"
   ]
  },
  {
   "cell_type": "code",
   "execution_count": 2,
   "id": "21f47512",
   "metadata": {},
   "outputs": [],
   "source": [
    "np.random.seed(2023-5-3)\n",
    "# DAG\n",
    "ev = 1*(np.random.normal(size=(n, 1))>0.8) \n",
    "u = np.random.normal(size=(n, 1))\n",
    "p = np.random.normal(size=(n, 1))*ev\n",
    "d = np.random.normal(size=(n, 1))\n",
    "cp = u + d + p\n",
    "r = 1 + d - p - cp\n",
    "\n",
    "# Throw stuff in observable & unobservable dataframe\n",
    "obs = pd.DataFrame(np.hstack([cp, ev]), columns=['cp_1', 'ev_2'])\n",
    "obs['int_3'] = cp*ev\n",
    "unobs = pd.DataFrame(np.hstack([u, d, p]), columns=['u', 'd', 'p'])"
   ]
  },
  {
   "cell_type": "code",
   "execution_count": 3,
   "id": "92f2dbec",
   "metadata": {},
   "outputs": [
    {
     "name": "stdout",
     "output_type": "stream",
     "text": [
      "True effect: -2.0000\n",
      "Estimate: -2.0028\n"
     ]
    }
   ],
   "source": [
    "# Get true effect\n",
    "mod = sm.OLS(r, sm.add_constant(unobs))\n",
    "p_effect = mod.fit().params['p']\n",
    "# Estimate k\n",
    "k = np.var(cp[ev==1])/np.var(cp[ev==0])\n",
    "# Estimate beta_1, beta_3, g\n",
    "mod2 = sm.OLS(r, sm.add_constant(obs))\n",
    "results2 = mod2.fit()\n",
    "g = results2.params['cp_1'] + results2.params['int_3']*(k/(k-1))\n",
    "print(f\"True effect: {p_effect:.4f}\\nEstimate: {g:.4f}\")"
   ]
  },
  {
   "cell_type": "markdown",
   "id": "3b51a08c",
   "metadata": {},
   "source": [
    "Add non linear interaction"
   ]
  },
  {
   "cell_type": "code",
   "execution_count": 4,
   "id": "060dc30a",
   "metadata": {},
   "outputs": [],
   "source": [
    "np.random.seed(2023-5-3)\n",
    "# DAG\n",
    "ev = 1*(np.random.normal(size=(n, 1))>0.8) \n",
    "u = np.random.normal(size=(n, 1))\n",
    "p = np.random.normal(size=(n, 1))*ev\n",
    "d = np.random.normal(size=(n, 1))\n",
    "cp = u + d + p + 2*p*d \n",
    "r = 1 + d - p - cp\n",
    "\n",
    "# Throw stuff in observable & unobservable dataframe\n",
    "obs = pd.DataFrame(np.hstack([cp, ev]), columns=['cp_1', 'ev_2'])\n",
    "obs['int_3'] = cp*ev\n",
    "unobs = pd.DataFrame(np.hstack([u, d, p]), columns=['u', 'd', 'p'])"
   ]
  },
  {
   "cell_type": "code",
   "execution_count": 5,
   "id": "ff1a8646",
   "metadata": {},
   "outputs": [
    {
     "name": "stdout",
     "output_type": "stream",
     "text": [
      "True effect: -2.0051\n",
      "Estimate: -1.1988\n"
     ]
    }
   ],
   "source": [
    "# Get true effect\n",
    "mod = sm.OLS(r, sm.add_constant(unobs))\n",
    "p_effect = mod.fit().params['p']\n",
    "# Estimate k\n",
    "k = np.var(cp[ev==1])/np.var(cp[ev==0])\n",
    "# Estimate beta_1, beta_3, g\n",
    "mod2 = sm.OLS(r, sm.add_constant(obs))\n",
    "results2 = mod2.fit()\n",
    "g = results2.params['cp_1'] + results2.params['int_3']*(k/(k-1))\n",
    "print(f\"True effect: {p_effect:.4f}\\nEstimate: {g:.4f}\")"
   ]
  }
 ],
 "metadata": {
  "kernelspec": {
   "display_name": "stats",
   "language": "python",
   "name": "stats"
  },
  "language_info": {
   "codemirror_mode": {
    "name": "ipython",
    "version": 3
   },
   "file_extension": ".py",
   "mimetype": "text/x-python",
   "name": "python",
   "nbconvert_exporter": "python",
   "pygments_lexer": "ipython3",
   "version": "3.9.16"
  }
 },
 "nbformat": 4,
 "nbformat_minor": 5
}
